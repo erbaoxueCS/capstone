{
 "cells": [
  {
   "cell_type": "code",
   "execution_count": 1,
   "id": "6382094d",
   "metadata": {},
   "outputs": [],
   "source": [
    "import pymysql"
   ]
  },
  {
   "cell_type": "code",
   "execution_count": 4,
   "id": "64619497",
   "metadata": {},
   "outputs": [],
   "source": [
    "m_host='sh-cynosdbmysql-grp-75qwodo8.sql.tencentcdb.com'\n",
    "m_port =29563\n",
    "m_user='capstone'\n",
    "m_password='capstone123!!!'\n",
    "m_db='circle_database_version3'"
   ]
  },
  {
   "cell_type": "code",
   "execution_count": 6,
   "id": "4690df25",
   "metadata": {},
   "outputs": [],
   "source": [
    "#dim_vehicle\n",
    "db = pymysql.connect(host=m_host,port =m_port,user=m_user,password=m_password,db=m_db)\n",
    "cursor = db.cursor()\n",
    "sql = \"\"\"CREATE TABLE `dim_vehicle` (\n",
    "  `id` int(11) unsigned NOT NULL AUTO_INCREMENT,\n",
    "  `vin` char(32) NOT NULL,\n",
    "  `nickname` varchar(128) DEFAULT NULL,\n",
    "  `make` varchar(32) DEFAULT NULL,\n",
    "  `model` varchar(32) DEFAULT NULL,\n",
    "  `year` year(4) DEFAULT NULL,\n",
    "  unique(`vin`),\n",
    "  PRIMARY KEY (`id`)\n",
    ") ENGINE=InnoDB DEFAULT CHARSET=utf8;\"\"\"\n",
    "cursor.execute(sql)\n",
    "db.close()"
   ]
  },
  {
   "cell_type": "code",
   "execution_count": 7,
   "id": "83c72fc6",
   "metadata": {},
   "outputs": [],
   "source": [
    "#dim_drive\n",
    "db = pymysql.connect(host=m_host,port =m_port,user=m_user,password=m_password,db=m_db)\n",
    "cursor = db.cursor()\n",
    "sql = \"\"\"CREATE TABLE `dim_drive` (\n",
    "  `id` int(11) unsigned NOT NULL AUTO_INCREMENT,\n",
    "  `vehicle_id` int(11) unsigned NOT NULL,\n",
    "  `file_prefix` varchar(128) DEFAULT NULL,\n",
    "  `video_path` varchar(255) DEFAULT NULL,\n",
    "  `systime_start` double(16,6) DEFAULT NULL,\n",
    "  `systime_end` double(16,6) DEFAULT NULL,\n",
    "  `latitude_start` float(10,6) DEFAULT NULL,\n",
    "  `longitude_start` float(10,6) DEFAULT NULL,\n",
    "  `import_date` datetime DEFAULT CURRENT_TIMESTAMP,\n",
    "  PRIMARY KEY (`id`),\n",
    "  KEY `dive_vehicle_id` (`vehicle_id`),\n",
    "  CONSTRAINT `dim_drive_ibfk_1` FOREIGN KEY (`vehicle_id`) REFERENCES `dim_vehicle` (`id`) ON DELETE CASCADE ON UPDATE CASCADE\n",
    ") ENGINE=InnoDB DEFAULT CHARSET=utf8;\"\"\"\n",
    "cursor.execute(sql)\n",
    "db.close()"
   ]
  },
  {
   "cell_type": "code",
   "execution_count": 8,
   "id": "274e5cac",
   "metadata": {},
   "outputs": [],
   "source": [
    "#fact_gps_message\n",
    "db = pymysql.connect(host=m_host,port =m_port,user=m_user,password=m_password,db=m_db)\n",
    "cursor = db.cursor()\n",
    "sql = \"\"\"CREATE TABLE `fact_gps_message` (\n",
    "  `drive_id` int(11) unsigned NOT NULL,\n",
    "  `vehicle_id` int(11) unsigned NOT NULL,\n",
    "  `systime` double(16,6) NOT NULL,\n",
    "  `gpstime` double(16,6) DEFAULT NULL,\n",
    "  `latitude` float(10,6) DEFAULT NULL,\n",
    "  `longitude` float(10,6) DEFAULT NULL,\n",
    "  `altitude` float(10,6) DEFAULT NULL,\n",
    "  PRIMARY KEY (`systime`,`drive_id`) USING BTREE,\n",
    "  KEY `gps_drive_id` (`drive_id`),\n",
    "  KEY `gps_vehicle id` (`vehicle_id`),\n",
    "  CONSTRAINT `gps_drive_id` FOREIGN KEY (`drive_id`) REFERENCES `dim_drive` (`id`) ON DELETE CASCADE ON UPDATE CASCADE,\n",
    "  CONSTRAINT `gps_vehicle id` FOREIGN KEY (`vehicle_id`) REFERENCES `dim_vehicle` (`id`) ON DELETE CASCADE ON UPDATE CASCADE\n",
    ") ENGINE=InnoDB DEFAULT CHARSET=utf8;\"\"\"\n",
    "cursor.execute(sql)\n",
    "db.close()"
   ]
  },
  {
   "cell_type": "code",
   "execution_count": 9,
   "id": "d1d9772b",
   "metadata": {},
   "outputs": [],
   "source": [
    "#fact_speed\n",
    "db = pymysql.connect(host=m_host,port =m_port,user=m_user,password=m_password,db=m_db)\n",
    "cursor = db.cursor()\n",
    "sql = \"\"\"CREATE TABLE `fact_speed` (\n",
    "  `drive_id` int(11) unsigned NOT NULL,\n",
    "  `elapsed_time` double(16,6) unsigned NOT NULL,\n",
    "  `speed` float(10,2) DEFAULT NULL,\n",
    "  PRIMARY KEY (`elapsed_time`,`drive_id`) USING BTREE,\n",
    "  KEY `speed_vehicle_id` (`drive_id`),\n",
    "  CONSTRAINT `speed_drive_id` FOREIGN KEY (`drive_id`) REFERENCES `dim_drive` (`id`) ON DELETE CASCADE ON UPDATE CASCADE\n",
    ") ENGINE=InnoDB DEFAULT CHARSET=utf8;\"\"\"\n",
    "cursor.execute(sql)\n",
    "db.close()"
   ]
  },
  {
   "cell_type": "code",
   "execution_count": 10,
   "id": "e8d3a6e9",
   "metadata": {},
   "outputs": [],
   "source": [
    "#fact_lead_distance\n",
    "db = pymysql.connect(host=m_host,port =m_port,user=m_user,password=m_password,db=m_db)\n",
    "cursor = db.cursor()\n",
    "sql = \"\"\"CREATE TABLE `fact_lead_distance` (\n",
    "  `drive_id` int(11) unsigned NOT NULL,\n",
    "  `elapsed_time` double(16,6) unsigned NOT NULL,\n",
    "  `lead_distance` int(11) DEFAULT NULL,\n",
    "  PRIMARY KEY (`elapsed_time`,`drive_id`) USING BTREE,\n",
    "  KEY `lead_distance_vehicle_id` (`drive_id`),\n",
    "  CONSTRAINT `lead_distance_drive_id` FOREIGN KEY (`drive_id`) REFERENCES `dim_drive` (`id`) ON DELETE CASCADE ON UPDATE CASCADE\n",
    ") ENGINE=InnoDB DEFAULT CHARSET=utf8;\"\"\"\n",
    "cursor.execute(sql)\n",
    "db.close()"
   ]
  },
  {
   "cell_type": "code",
   "execution_count": 11,
   "id": "3db5f9e9",
   "metadata": {},
   "outputs": [],
   "source": [
    "#fact_lead_distance\n",
    "db = pymysql.connect(host=m_host,port =m_port,user=m_user,password=m_password,db=m_db)\n",
    "cursor = db.cursor()\n",
    "sql = \"\"\"CREATE TABLE `fact_acceleration` (\n",
    "  `drive_id` int(11) unsigned NOT NULL,\n",
    "  `elapsed_time` double(16,6) unsigned NOT NULL,\n",
    "  `acceleration` float(10,2) DEFAULT NULL,\n",
    "  PRIMARY KEY (`elapsed_time`,`drive_id`) USING BTREE,\n",
    "  KEY `acceleration_vehicle_id` (`drive_id`),\n",
    "  CONSTRAINT `acceleration_drive_id` FOREIGN KEY (`drive_id`) REFERENCES `dim_drive` (`id`) ON DELETE CASCADE ON UPDATE CASCADE\n",
    ") ENGINE=InnoDB DEFAULT CHARSET=utf8;\"\"\"\n",
    "cursor.execute(sql)\n",
    "db.close()"
   ]
  },
  {
   "cell_type": "code",
   "execution_count": 12,
   "id": "d00b6b7e",
   "metadata": {},
   "outputs": [],
   "source": [
    "#fact_relative_vel\n",
    "db = pymysql.connect(host=m_host,port =m_port,user=m_user,password=m_password,db=m_db)\n",
    "cursor = db.cursor()\n",
    "sql = \"\"\"CREATE TABLE `fact_relative_vel` (\n",
    "  `drive_id` int(11) unsigned NOT NULL,\n",
    "  `elapsed_time` double(16,6) unsigned NOT NULL,\n",
    "  `relative_vel` float(10,2) DEFAULT NULL,\n",
    "  PRIMARY KEY (`elapsed_time`,`drive_id`) USING BTREE,\n",
    "  KEY `acceleration_vehicle_id` (`drive_id`),\n",
    "  CONSTRAINT `relative_vel_drive_id` FOREIGN KEY (`drive_id`) REFERENCES `dim_drive` (`id`) ON DELETE CASCADE ON UPDATE CASCADE\n",
    ") ENGINE=InnoDB DEFAULT CHARSET=utf8;\"\"\"\n",
    "cursor.execute(sql)\n",
    "db.close()"
   ]
  },
  {
   "cell_type": "code",
   "execution_count": 13,
   "id": "d3e5e95e",
   "metadata": {},
   "outputs": [],
   "source": [
    "#fact_acc_status\n",
    "db = pymysql.connect(host=m_host,port =m_port,user=m_user,password=m_password,db=m_db)\n",
    "cursor = db.cursor()\n",
    "sql = \"\"\"CREATE TABLE `fact_acc_status` (\n",
    "  `drive_id` int(11) unsigned NOT NULL,\n",
    "  `elapsed_time` double(16,6) unsigned NOT NULL,\n",
    "  `acc_status` int(11) DEFAULT NULL,\n",
    "  PRIMARY KEY (`elapsed_time`,`drive_id`) USING BTREE,\n",
    "  KEY `acc_status_vehicle_id` (`drive_id`),\n",
    "  CONSTRAINT `acc_status_drive_id` FOREIGN KEY (`drive_id`) REFERENCES `dim_drive` (`id`) ON DELETE CASCADE ON UPDATE CASCADE\n",
    ") ENGINE=InnoDB DEFAULT CHARSET=utf8;\"\"\"\n",
    "cursor.execute(sql)\n",
    "db.close()"
   ]
  },
  {
   "cell_type": "code",
   "execution_count": 9,
   "id": "5f44c9c5",
   "metadata": {},
   "outputs": [],
   "source": [
    "#fact_drive_data\n",
    "db = pymysql.connect(host=m_host,port =m_port,user=m_user,password=m_password,db=m_db)\n",
    "cursor = db.cursor()\n",
    "sql = \"\"\"CREATE TABLE `fact_drive_data` (\n",
    "  `drive_id` int(11) unsigned NOT NULL,\n",
    "  `vehicle_id` int(11) unsigned NOT NULL,\n",
    "  `elapsed_time` double(16,1) unsigned NOT NULL,\n",
    "  `latitude` float(10,6) DEFAULT NULL,\n",
    "  `longitude` float(10,6) DEFAULT NULL,\n",
    "  `altitude` float(10,6) DEFAULT NULL,\n",
    "  `speed` float(10,2) DEFAULT NULL,\n",
    "  `lead_distance` int(11) DEFAULT NULL,\n",
    "  `acceleration` float(10,2) DEFAULT NULL,\n",
    "  `relative_vel` float(10,2) DEFAULT NULL,\n",
    "  `acc_status` int(11) DEFAULT NULL,\n",
    "  PRIMARY KEY (`elapsed_time`,`drive_id`) USING BTREE,\n",
    "  KEY `fact_drive_data_drive_id` (`drive_id`),\n",
    "  KEY `fact_drive_data_vehicle id` (`vehicle_id`),\n",
    "  CONSTRAINT `fact_drive_data_id` FOREIGN KEY (`drive_id`) REFERENCES `dim_drive` (`id`) ON DELETE CASCADE ON UPDATE CASCADE,\n",
    "  CONSTRAINT `fact_drive_data id` FOREIGN KEY (`vehicle_id`) REFERENCES `dim_vehicle` (`id`) ON DELETE CASCADE ON UPDATE CASCADE\n",
    ")ENGINE=InnoDB DEFAULT CHARSET=utf8;\"\"\"\n",
    "cursor.execute(sql)\n",
    "db.close()"
   ]
  },
  {
   "cell_type": "code",
   "execution_count": 15,
   "id": "40e77861",
   "metadata": {},
   "outputs": [],
   "source": [
    "# db = pymysql.connect(host=m_host,port =m_port,user=m_user,password=m_password,db=m_db)\n",
    "# cursor = db.cursor()\n",
    "# sql = \"\"\"drop table dim_drive\"\"\"\n",
    "# cursor.execute(sql)\n",
    "# db.close()"
   ]
  },
  {
   "cell_type": "code",
   "execution_count": 8,
   "id": "9a418eb7",
   "metadata": {},
   "outputs": [
    {
     "data": {
      "text/plain": [
       "1"
      ]
     },
     "execution_count": 8,
     "metadata": {},
     "output_type": "execute_result"
    }
   ],
   "source": [
    "# #creat database\n",
    "# db = pymysql.connect(host='sh-cynosdbmysql-grp-75qwodo8.sql.tencentcdb.com',port =29563,user='capstone',password='capstone123!!!')\n",
    "# cursor = db.cursor()\n",
    "# sql = \"CREATE DATABASE IF NOT EXISTS circle_database_version3\" \n",
    "# cursor.execute(sql)"
   ]
  },
  {
   "cell_type": "code",
   "execution_count": null,
   "id": "c3972fbc",
   "metadata": {},
   "outputs": [],
   "source": []
  }
 ],
 "metadata": {
  "kernelspec": {
   "display_name": "Python 3 (ipykernel)",
   "language": "python",
   "name": "python3"
  },
  "language_info": {
   "codemirror_mode": {
    "name": "ipython",
    "version": 3
   },
   "file_extension": ".py",
   "mimetype": "text/x-python",
   "name": "python",
   "nbconvert_exporter": "python",
   "pygments_lexer": "ipython3",
   "version": "3.7.5"
  }
 },
 "nbformat": 4,
 "nbformat_minor": 5
}