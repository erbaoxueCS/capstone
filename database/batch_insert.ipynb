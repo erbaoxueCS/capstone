{
 "cells": [
  {
   "cell_type": "code",
   "execution_count": null,
   "id": "0da804ae",
   "metadata": {},
   "outputs": [],
   "source": [
    "import strym\n",
    "from strym import strymread\n",
    "import Ipynb_importer\n",
    "import fact_features\n",
    "import fact_gps_message\n",
    "import fact_drive_data"
   ]
  },
  {
   "cell_type": "code",
   "execution_count": null,
   "id": "58bd2122",
   "metadata": {},
   "outputs": [],
   "source": [
    "import os\n",
    "import re\n",
    "def get_all_file(dir_name):\n",
    "    can_list, gps_list = [], []\n",
    "    for root, dirs, files in os.walk(dir_name):\n",
    "        for filename in files:\n",
    "            if re.match(r\"\\d{4}-\\d{2}-\\d{2}-\\d{2}-\\d{2}-\\d{2}_[A-Z0-9]*_CAN_Messages.csv\", filename):\n",
    "                can_list.append(filename)\n",
    "            if re.match(r\"\\d{4}-\\d{2}-\\d{2}-\\d{2}-\\d{2}-\\d{2}_[A-Z0-9]*_GPS_Messages.csv\", filename):\n",
    "                gps_list.append(filename)\n",
    "    return can_list, gps_list"
   ]
  },
  {
   "cell_type": "code",
   "execution_count": null,
   "id": "85dfca2f",
   "metadata": {},
   "outputs": [],
   "source": [
    "can_list, gps_list = get_all_file('.')"
   ]
  },
  {
   "cell_type": "code",
   "execution_count": null,
   "id": "f2132ac5",
   "metadata": {},
   "outputs": [],
   "source": [
    "can_list, gps_list"
   ]
  },
  {
   "cell_type": "code",
   "execution_count": null,
   "id": "711129e8",
   "metadata": {},
   "outputs": [],
   "source": [
    "for file in gps_list:\n",
    "    fact_gps_message.insert_record_to_fact_gps_message(file)"
   ]
  },
  {
   "cell_type": "code",
   "execution_count": null,
   "id": "d2deed07",
   "metadata": {},
   "outputs": [],
   "source": [
    "for file in can_list:\n",
    "    fact_features.insert_all_records(file)"
   ]
  },
  {
   "cell_type": "code",
   "execution_count": null,
   "id": "beba4155",
   "metadata": {},
   "outputs": [],
   "source": [
    "for can_file in can_list:\n",
    "    gps_file = can_file.replace('CAN', 'GPS')\n",
    "    if gps_file in gps_list:\n",
    "            fact_drive_data.insert_fact_drive_data(can_file,gps_file)"
   ]
  }
 ],
 "metadata": {
  "kernelspec": {
   "display_name": "Python 3 (ipykernel)",
   "language": "python",
   "name": "python3"
  },
  "language_info": {
   "codemirror_mode": {
    "name": "ipython",
    "version": 3
   },
   "file_extension": ".py",
   "mimetype": "text/x-python",
   "name": "python",
   "nbconvert_exporter": "python",
   "pygments_lexer": "ipython3",
   "version": "3.7.5"
  }
 },
 "nbformat": 4,
 "nbformat_minor": 5
}
