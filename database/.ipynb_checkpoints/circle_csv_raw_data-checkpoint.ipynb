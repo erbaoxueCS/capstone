{
 "cells": [
  {
   "cell_type": "code",
   "execution_count": 35,
   "id": "b277d839",
   "metadata": {},
   "outputs": [],
   "source": [
    "import strym\n",
    "from strym import strymread\n",
    "import matplotlib.pyplot as plt\n",
    "import pandas as pd\n",
    "import numpy as np\n",
    "import pymysql\n",
    "import re"
   ]
  },
  {
   "cell_type": "code",
   "execution_count": 41,
   "id": "366bb11b",
   "metadata": {},
   "outputs": [
    {
     "name": "stdout",
     "output_type": "stream",
     "text": [
      "[2022_02_06_23_13_51] (root) INFO: Vehicle model infered is toyota-rav4-2019\n"
     ]
    }
   ],
   "source": [
    "file= \"2021-04-06-15-13-00_2T3Y1RFV8KC014025_CAN_Messages.csv\"\n",
    "r =strymread(csvfile=file)"
   ]
  },
  {
   "cell_type": "code",
   "execution_count": 11,
   "id": "34e3c3a1",
   "metadata": {},
   "outputs": [
    {
     "data": {
      "text/plain": [
       "'2T3Y1RFV8KC014025'"
      ]
     },
     "execution_count": 11,
     "metadata": {},
     "output_type": "execute_result"
    }
   ],
   "source": [
    "#regex match\n",
    "vehicle_id_pattern = r\"\\d{4}-\\d{2}-\\d{2}-\\d{2}-\\d{2}-\\d{2}_([A-Z0-9]*)_CAN_Messages.csv\"\n",
    "vehicle_id = re.findall(vehicle_id_pattern,file)[0]\n",
    "vehicle_id"
   ]
  },
  {
   "cell_type": "code",
   "execution_count": null,
   "id": "e4bad870",
   "metadata": {},
   "outputs": [],
   "source": [
    "lead_distance = r.lead_distance()['Message']\n",
    "lead_distance_time = pd.to_datetime(r.lead_distance()['Time'],unit='s')"
   ]
  },
  {
   "cell_type": "code",
   "execution_count": null,
   "id": "e0c62d83",
   "metadata": {},
   "outputs": [],
   "source": [
    "relative_vel = r.relative_leadervel()['Message']\n",
    "relative_vel_time = pd.to_datetime(r.relative_leadervel()['Time'],unit='s')"
   ]
  },
  {
   "cell_type": "code",
   "execution_count": 48,
   "id": "775214b4",
   "metadata": {},
   "outputs": [],
   "source": [
    "def create_feature_dataframe(df_raw,feature_name):\n",
    "    vehicle_id_pattern = r\"\\d{4}-\\d{2}-\\d{2}-\\d{2}-\\d{2}-\\d{2}_([A-Z0-9]*)_CAN_Messages.csv\"\n",
    "    vehicle_id = re.findall(vehicle_id_pattern,file)[0]\n",
    "    feature = df_raw['Message']\n",
    "    time =  pd.to_datetime(df_raw['Time'],unit='s')\n",
    "    df_feature = pd.DataFrame()\n",
    "    df_feature[feature_name]=feature\n",
    "    df_feature= df_feature.reset_index()\n",
    "    df_feature.rename(columns={'Clock':'time'},inplace=True)\n",
    "    df_feature['vehicle_id'] =vehicle_id\n",
    "    return df_feature\n",
    "def mysql_batch_update(dataframe,table_name):\n",
    "    from sqlalchemy import create_engine\n",
    "    engine = create_engine(\"mysql+pymysql://{}:{}@{}/{}\".format('capstone', 'capstone123!!!', 'sh-cynosdbmysql-grp-75qwodo8.sql.tencentcdb.com:29563', 'circle_database_prototype'))\n",
    "    con = engine.connect()\n",
    "    return dataframe.to_sql(name=table_name, con=con, if_exists='append', index=False)"
   ]
  },
  {
   "cell_type": "code",
   "execution_count": 49,
   "id": "61fc4470",
   "metadata": {},
   "outputs": [],
   "source": [
    "mysql_batch_update(create_feature_dataframe(r.accelx(),'acceleration'),'raw_vehicle_acceleration')"
   ]
  },
  {
   "cell_type": "code",
   "execution_count": 5,
   "id": "787d9409",
   "metadata": {},
   "outputs": [],
   "source": [
    "speed = r.speed()['Message']\n",
    "speed_time = pd.to_datetime(r.speed()['Time'],unit='s')"
   ]
  },
  {
   "cell_type": "code",
   "execution_count": 7,
   "id": "41a8400f",
   "metadata": {},
   "outputs": [],
   "source": [
    "# db = pymysql.connect(host='sh-cynosdbmysql-grp-75qwodo8.sql.tencentcdb.com',port =29563,user='capstone',password='capstone123!!!')\n",
    "# cursor = db.cursor()\n",
    "# sql = \"CREATE DATABASE IF NOT EXISTS circle_database_prototype\" \n",
    "# cursor.execute(sql)"
   ]
  },
  {
   "cell_type": "code",
   "execution_count": 36,
   "id": "e7dcdd17",
   "metadata": {},
   "outputs": [],
   "source": [
    "# ##create the features table\n",
    "# db = pymysql.connect(host='sh-cynosdbmysql-grp-75qwodo8.sql.tencentcdb.com',port =29563,user='capstone',password='capstone123!!!',db='circle_database_prototype')\n",
    "# cursor = db.cursor()\n",
    "# # Create table vehicle_speed\n",
    "# cursor.execute(\"DROP TABLE IF EXISTS raw_vehicle_speed\")\n",
    "# sql = \"\"\"CREATE TABLE `raw_vehicle_speed` (\n",
    "#   `id` int(11) NOT NULL AUTO_INCREMENT,\n",
    "#   `vehicle_id` char(128) NOT NULL,\n",
    "#   `speed` float(10,2) DEFAULT NULL,\n",
    "#   `time` timestamp(3) NOT NULL DEFAULT CURRENT_TIMESTAMP(3) ON UPDATE CURRENT_TIMESTAMP(3),\n",
    "#   PRIMARY KEY (`id`)\n",
    "# ) ENGINE=InnoDB AUTO_INCREMENT=0 DEFAULT CHARSET=utf8;\"\"\"\n",
    "# cursor.execute(sql)\n",
    "# # Create table vehicle_relative_vel\n",
    "# cursor.execute(\"DROP TABLE IF EXISTS raw_vehicle_relative_vel\")\n",
    "# sql = \"\"\"CREATE TABLE `raw_vehicle_relative_vel` (\n",
    "#   `id` int(11) NOT NULL AUTO_INCREMENT,\n",
    "#   `vehicle_id` char(128) NOT NULL,\n",
    "#   `relative_vel` float(10,2) DEFAULT NULL,\n",
    "#   `time` timestamp(3) NOT NULL DEFAULT CURRENT_TIMESTAMP(3) ON UPDATE CURRENT_TIMESTAMP(3),\n",
    "#   PRIMARY KEY (`id`)\n",
    "# ) ENGINE=InnoDB AUTO_INCREMENT=0 DEFAULT CHARSET=utf8;\"\"\"\n",
    "# cursor.execute(sql)\n",
    "# # Create table lead_distance\n",
    "# cursor.execute(\"DROP TABLE IF EXISTS cleaned_vehicle_lead_distance\")\n",
    "# sql = \"\"\"CREATE TABLE `cleaned_vehicle_lead_distance` (\n",
    "#   `id` int(11) NOT NULL AUTO_INCREMENT,\n",
    "#   `vehicle_id` char(128) NOT NULL,\n",
    "#   `lead_distance` float(10,2) DEFAULT NULL,\n",
    "#   `time` timestamp(3) NOT NULL DEFAULT CURRENT_TIMESTAMP(3) ON UPDATE CURRENT_TIMESTAMP(3),\n",
    "#   PRIMARY KEY (`id`)\n",
    "# ) ENGINE=InnoDB AUTO_INCREMENT=0 DEFAULT CHARSET=utf8;\"\"\"\n",
    "# cursor.execute(sql)\n",
    "# print(\"Created table Successfull.\")\n",
    "# Create table vehicle_speed\n",
    "# cursor.execute(\"DROP TABLE IF EXISTS raw_vehicle_acceleration\")\n",
    "# sql = \"\"\"CREATE TABLE `raw_vehicle_acceleration` (\n",
    "#   `id` int(11) NOT NULL AUTO_INCREMENT,\n",
    "#   `vehicle_id` char(128) NOT NULL,\n",
    "#   `acceleration` float(10,2) DEFAULT NULL,\n",
    "#   `time` timestamp(3) NOT NULL DEFAULT CURRENT_TIMESTAMP(3) ON UPDATE CURRENT_TIMESTAMP(3),\n",
    "#   PRIMARY KEY (`id`)\n",
    "# ) ENGINE=InnoDB AUTO_INCREMENT=0 DEFAULT CHARSET=utf8;\"\"\"\n",
    "# cursor.execute(sql)\n",
    "\n",
    "# # disconnect from server\n",
    "# db.close()"
   ]
  },
  {
   "cell_type": "code",
   "execution_count": 10,
   "id": "c0936d3b",
   "metadata": {},
   "outputs": [
    {
     "data": {
      "text/html": [
       "<div>\n",
       "<style scoped>\n",
       "    .dataframe tbody tr th:only-of-type {\n",
       "        vertical-align: middle;\n",
       "    }\n",
       "\n",
       "    .dataframe tbody tr th {\n",
       "        vertical-align: top;\n",
       "    }\n",
       "\n",
       "    .dataframe thead th {\n",
       "        text-align: right;\n",
       "    }\n",
       "</style>\n",
       "<table border=\"1\" class=\"dataframe\">\n",
       "  <thead>\n",
       "    <tr style=\"text-align: right;\">\n",
       "      <th></th>\n",
       "      <th>time</th>\n",
       "      <th>speed</th>\n",
       "      <th>vehicle_id</th>\n",
       "    </tr>\n",
       "  </thead>\n",
       "  <tbody>\n",
       "    <tr>\n",
       "      <th>0</th>\n",
       "      <td>2021-04-06 15:13:01.167064064</td>\n",
       "      <td>0.0</td>\n",
       "      <td>2T3Y1RFV8KC014025</td>\n",
       "    </tr>\n",
       "    <tr>\n",
       "      <th>1</th>\n",
       "      <td>2021-04-06 15:13:01.169282048</td>\n",
       "      <td>0.0</td>\n",
       "      <td>2T3Y1RFV8KC014025</td>\n",
       "    </tr>\n",
       "    <tr>\n",
       "      <th>2</th>\n",
       "      <td>2021-04-06 15:13:01.173085952</td>\n",
       "      <td>0.0</td>\n",
       "      <td>2T3Y1RFV8KC014025</td>\n",
       "    </tr>\n",
       "    <tr>\n",
       "      <th>3</th>\n",
       "      <td>2021-04-06 15:13:01.174201856</td>\n",
       "      <td>0.0</td>\n",
       "      <td>2T3Y1RFV8KC014025</td>\n",
       "    </tr>\n",
       "    <tr>\n",
       "      <th>4</th>\n",
       "      <td>2021-04-06 15:13:01.180964864</td>\n",
       "      <td>0.0</td>\n",
       "      <td>2T3Y1RFV8KC014025</td>\n",
       "    </tr>\n",
       "  </tbody>\n",
       "</table>\n",
       "</div>"
      ],
      "text/plain": [
       "                           time  speed         vehicle_id\n",
       "0 2021-04-06 15:13:01.167064064    0.0  2T3Y1RFV8KC014025\n",
       "1 2021-04-06 15:13:01.169282048    0.0  2T3Y1RFV8KC014025\n",
       "2 2021-04-06 15:13:01.173085952    0.0  2T3Y1RFV8KC014025\n",
       "3 2021-04-06 15:13:01.174201856    0.0  2T3Y1RFV8KC014025\n",
       "4 2021-04-06 15:13:01.180964864    0.0  2T3Y1RFV8KC014025"
      ]
     },
     "execution_count": 10,
     "metadata": {},
     "output_type": "execute_result"
    }
   ],
   "source": [
    "df_speed = pd.DataFrame()\n",
    "df_speed['speed']=speed\n",
    "df_speed= df_speed.reset_index()\n",
    "df_speed.rename(columns={'Clock':'time'},inplace=True)\n",
    "df_speed['vehicle_id'] =vehicle_id\n",
    "df_speed.head(5)"
   ]
  },
  {
   "cell_type": "code",
   "execution_count": 16,
   "id": "bcebb812",
   "metadata": {},
   "outputs": [],
   "source": [
    "from sqlalchemy import create_engine\n",
    "engine = create_engine(\"mysql+pymysql://{}:{}@{}/{}\".format('capstone', 'capstone123!!!', 'sh-cynosdbmysql-grp-75qwodo8.sql.tencentcdb.com:29563', 'circle_database_prototype'))\n",
    "con = engine.connect()\n",
    "df_speed.to_sql(name='raw_vehicle_speed', con=con, if_exists='append', index=False)"
   ]
  },
  {
   "cell_type": "code",
   "execution_count": 17,
   "id": "7b969e37",
   "metadata": {},
   "outputs": [],
   "source": [
    "df_lead_distance = pd.DataFrame()\n",
    "df_lead_distance['lead_distance']=lead_distance\n",
    "df_lead_distance= df_lead_distance.reset_index()\n",
    "df_lead_distance.rename(columns={'Clock':'time'},inplace=True)\n",
    "df_lead_distance['vehicle_id'] =vehicle_id"
   ]
  },
  {
   "cell_type": "code",
   "execution_count": 8,
   "id": "fbf6be9a",
   "metadata": {},
   "outputs": [],
   "source": [
    "from sqlalchemy import create_engine\n",
    "engine = create_engine(\"mysql+pymysql://{}:{}@{}/{}\".format('capstone', 'capstone123!!!', 'sh-cynosdbmysql-grp-75qwodo8.sql.tencentcdb.com:29563', 'circle_database_prototype'))\n",
    "con = engine.connect()\n",
    "df_lead_distance.to_sql(name='raw_vehicle_lead_distance', con=con, if_exists='append', index=False)"
   ]
  },
  {
   "cell_type": "code",
   "execution_count": 19,
   "id": "2000fbd8",
   "metadata": {},
   "outputs": [
    {
     "data": {
      "text/html": [
       "<div>\n",
       "<style scoped>\n",
       "    .dataframe tbody tr th:only-of-type {\n",
       "        vertical-align: middle;\n",
       "    }\n",
       "\n",
       "    .dataframe tbody tr th {\n",
       "        vertical-align: top;\n",
       "    }\n",
       "\n",
       "    .dataframe thead th {\n",
       "        text-align: right;\n",
       "    }\n",
       "</style>\n",
       "<table border=\"1\" class=\"dataframe\">\n",
       "  <thead>\n",
       "    <tr style=\"text-align: right;\">\n",
       "      <th></th>\n",
       "      <th>time</th>\n",
       "      <th>relative_vel</th>\n",
       "      <th>vehicle_id</th>\n",
       "    </tr>\n",
       "  </thead>\n",
       "  <tbody>\n",
       "    <tr>\n",
       "      <th>0</th>\n",
       "      <td>2021-04-06 15:13:01.168414976</td>\n",
       "      <td>0.000</td>\n",
       "      <td>2T3Y1RFV8KC014025</td>\n",
       "    </tr>\n",
       "    <tr>\n",
       "      <th>1</th>\n",
       "      <td>2021-04-06 15:13:01.168414976</td>\n",
       "      <td>0.000</td>\n",
       "      <td>2T3Y1RFV8KC014025</td>\n",
       "    </tr>\n",
       "    <tr>\n",
       "      <th>2</th>\n",
       "      <td>2021-04-06 15:13:01.168634880</td>\n",
       "      <td>0.000</td>\n",
       "      <td>2T3Y1RFV8KC014025</td>\n",
       "    </tr>\n",
       "    <tr>\n",
       "      <th>3</th>\n",
       "      <td>2021-04-06 15:13:01.168634880</td>\n",
       "      <td>0.000</td>\n",
       "      <td>2T3Y1RFV8KC014025</td>\n",
       "    </tr>\n",
       "    <tr>\n",
       "      <th>4</th>\n",
       "      <td>2021-04-06 15:13:01.168634880</td>\n",
       "      <td>0.000</td>\n",
       "      <td>2T3Y1RFV8KC014025</td>\n",
       "    </tr>\n",
       "    <tr>\n",
       "      <th>...</th>\n",
       "      <td>...</td>\n",
       "      <td>...</td>\n",
       "      <td>...</td>\n",
       "    </tr>\n",
       "    <tr>\n",
       "      <th>107793</th>\n",
       "      <td>2021-04-06 15:23:39.803931904</td>\n",
       "      <td>0.000</td>\n",
       "      <td>2T3Y1RFV8KC014025</td>\n",
       "    </tr>\n",
       "    <tr>\n",
       "      <th>107794</th>\n",
       "      <td>2021-04-06 15:23:39.852005888</td>\n",
       "      <td>-1.225</td>\n",
       "      <td>2T3Y1RFV8KC014025</td>\n",
       "    </tr>\n",
       "    <tr>\n",
       "      <th>107795</th>\n",
       "      <td>2021-04-06 15:23:39.852215040</td>\n",
       "      <td>0.000</td>\n",
       "      <td>2T3Y1RFV8KC014025</td>\n",
       "    </tr>\n",
       "    <tr>\n",
       "      <th>107796</th>\n",
       "      <td>2021-04-06 15:23:39.853068032</td>\n",
       "      <td>0.000</td>\n",
       "      <td>2T3Y1RFV8KC014025</td>\n",
       "    </tr>\n",
       "    <tr>\n",
       "      <th>107797</th>\n",
       "      <td>2021-04-06 15:23:39.853171200</td>\n",
       "      <td>0.000</td>\n",
       "      <td>2T3Y1RFV8KC014025</td>\n",
       "    </tr>\n",
       "  </tbody>\n",
       "</table>\n",
       "<p>107798 rows × 3 columns</p>\n",
       "</div>"
      ],
      "text/plain": [
       "                                time  relative_vel         vehicle_id\n",
       "0      2021-04-06 15:13:01.168414976         0.000  2T3Y1RFV8KC014025\n",
       "1      2021-04-06 15:13:01.168414976         0.000  2T3Y1RFV8KC014025\n",
       "2      2021-04-06 15:13:01.168634880         0.000  2T3Y1RFV8KC014025\n",
       "3      2021-04-06 15:13:01.168634880         0.000  2T3Y1RFV8KC014025\n",
       "4      2021-04-06 15:13:01.168634880         0.000  2T3Y1RFV8KC014025\n",
       "...                              ...           ...                ...\n",
       "107793 2021-04-06 15:23:39.803931904         0.000  2T3Y1RFV8KC014025\n",
       "107794 2021-04-06 15:23:39.852005888        -1.225  2T3Y1RFV8KC014025\n",
       "107795 2021-04-06 15:23:39.852215040         0.000  2T3Y1RFV8KC014025\n",
       "107796 2021-04-06 15:23:39.853068032         0.000  2T3Y1RFV8KC014025\n",
       "107797 2021-04-06 15:23:39.853171200         0.000  2T3Y1RFV8KC014025\n",
       "\n",
       "[107798 rows x 3 columns]"
      ]
     },
     "execution_count": 19,
     "metadata": {},
     "output_type": "execute_result"
    }
   ],
   "source": [
    "df_relative_vel = pd.DataFrame()\n",
    "df_relative_vel['relative_vel']=relative_vel\n",
    "df_relative_vel= df_relative_vel.reset_index()\n",
    "df_relative_vel.rename(columns={'Clock':'time'},inplace=True)\n",
    "df_relative_vel['vehicle_id'] =vehicle_id\n",
    "df_relative_vel"
   ]
  },
  {
   "cell_type": "code",
   "execution_count": 15,
   "id": "11c8fb2c",
   "metadata": {},
   "outputs": [],
   "source": [
    "from sqlalchemy import create_engine\n",
    "engine = create_engine(\"mysql+pymysql://{}:{}@{}/{}\".format('capstone', 'capstone123!!!', 'sh-cynosdbmysql-grp-75qwodo8.sql.tencentcdb.com:29563', 'circle_database_prototype'))\n",
    "con = engine.connect()\n",
    "df_relative_vel.to_sql(name='raw_vehicle_relative_vel', con=con, if_exists='append', index=False)"
   ]
  },
  {
   "cell_type": "code",
   "execution_count": 32,
   "id": "d11ed64c",
   "metadata": {},
   "outputs": [],
   "source": [
    "#serach\n",
    "db = pymysql.connect(host='sh-cynosdbmysql-grp-75qwodo8.sql.tencentcdb.com',port =29563,user='capstone',password='capstone123!!!',db='circle_database_prototype')\n",
    "cursor = db.cursor()\n",
    "sql = \"SELECT lead_distance, time FROM raw_vehicle_lead_distance WHERE time > '2021-04-06 01:00:00' and time < '2021-04-06 23:00:00' and vehicle_id = '2T3Y1RFV8KC014025'\"\n",
    "cursor.execute(sql)\n",
    "# Fetch all the rows in a list of lists.\n",
    "results = cursor.fetchall()\n",
    "db.close()\n"
   ]
  },
  {
   "cell_type": "code",
   "execution_count": null,
   "id": "c96aeac7",
   "metadata": {},
   "outputs": [],
   "source": []
  }
 ],
 "metadata": {
  "kernelspec": {
   "display_name": "Python 3 (ipykernel)",
   "language": "python",
   "name": "python3"
  },
  "language_info": {
   "codemirror_mode": {
    "name": "ipython",
    "version": 3
   },
   "file_extension": ".py",
   "mimetype": "text/x-python",
   "name": "python",
   "nbconvert_exporter": "python",
   "pygments_lexer": "ipython3",
   "version": "3.7.5"
  }
 },
 "nbformat": 4,
 "nbformat_minor": 5
}
